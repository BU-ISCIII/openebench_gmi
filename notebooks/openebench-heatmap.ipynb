{
 "cells": [
  {
   "cell_type": "markdown",
   "metadata": {},
   "source": [
    "## Openebench_gmi\n"
   ]
  },
  {
   "cell_type": "code",
   "execution_count": 105,
   "metadata": {},
   "outputs": [],
   "source": [
    "import json\n",
    "import numpy as np\n",
    "import matplotlib\n",
    "import matplotlib.pyplot as plt\n",
    "from matplotlib import cm \n",
    "in_file = '../datasets/benchmark_data/participant_matrix.json'\n",
    "with open(in_file) as json_file:  \n",
    "    data = json.load(json_file)"
   ]
  },
  {
   "cell_type": "code",
   "execution_count": 106,
   "metadata": {
    "scrolled": true
   },
   "outputs": [
    {
     "data": {
      "text/plain": [
       "array([[0.        , 0.        , 0.        , 0.        , 0.        ,\n",
       "        0.        , 0.        ],\n",
       "       [0.09090909, 0.        , 0.        , 0.        , 0.        ,\n",
       "        0.        , 0.        ],\n",
       "       [0.09090909, 0.        , 0.        , 0.        , 0.        ,\n",
       "        0.        , 0.        ],\n",
       "       [0.09090909, 0.        , 0.        , 0.        , 0.        ,\n",
       "        0.        , 0.        ],\n",
       "       [0.09090909, 0.        , 0.        , 0.        , 0.        ,\n",
       "        0.        , 0.        ],\n",
       "       [0.33333333, 0.28571429, 0.28571429, 0.28571429, 0.28571429,\n",
       "        0.        , 0.        ],\n",
       "       [1.        , 1.        , 1.        , 1.        , 1.        ,\n",
       "        1.        , 0.        ]])"
      ]
     },
     "execution_count": 106,
     "metadata": {},
     "output_type": "execute_result"
    }
   ],
   "source": [
    "participants = data['participants']\n",
    "p_matrix_values = np.array(data['matrix']['values'])\n",
    "p_matrix_values"
   ]
  },
  {
   "cell_type": "markdown",
   "metadata": {},
   "source": [
    "#### Upper matrix masking\n",
    "For upper matrix masking we have to create a boolean mask array and transpose it. Then we mask the p_matrix_values array and we round the values to 3 decimals."
   ]
  },
  {
   "cell_type": "code",
   "execution_count": 107,
   "metadata": {},
   "outputs": [
    {
     "name": "stdout",
     "output_type": "stream",
     "text": [
      "[[0. 1. 1. 1. 1. 1. 1.]\n",
      " [0. 0. 1. 1. 1. 1. 1.]\n",
      " [0. 0. 0. 1. 1. 1. 1.]\n",
      " [0. 0. 0. 0. 1. 1. 1.]\n",
      " [0. 0. 0. 0. 0. 1. 1.]\n",
      " [0. 0. 0. 0. 0. 0. 1.]\n",
      " [0. 0. 0. 0. 0. 0. 0.]]\n"
     ]
    },
    {
     "data": {
      "text/plain": [
       "masked_array(\n",
       "  data=[[0.0, --, --, --, --, --, --],\n",
       "        [0.09, 0.0, --, --, --, --, --],\n",
       "        [0.09, 0.0, 0.0, --, --, --, --],\n",
       "        [0.09, 0.0, 0.0, 0.0, --, --, --],\n",
       "        [0.09, 0.0, 0.0, 0.0, 0.0, --, --],\n",
       "        [0.33, 0.29, 0.29, 0.29, 0.29, 0.0, --],\n",
       "        [1.0, 1.0, 1.0, 1.0, 1.0, 1.0, 0.0]],\n",
       "  mask=[[False,  True,  True,  True,  True,  True,  True],\n",
       "        [False, False,  True,  True,  True,  True,  True],\n",
       "        [False, False, False,  True,  True,  True,  True],\n",
       "        [False, False, False, False,  True,  True,  True],\n",
       "        [False, False, False, False, False,  True,  True],\n",
       "        [False, False, False, False, False, False,  True],\n",
       "        [False, False, False, False, False, False, False]],\n",
       "  fill_value=1e+20)"
      ]
     },
     "execution_count": 107,
     "metadata": {},
     "output_type": "execute_result"
    }
   ],
   "source": [
    "mask =  np.tri(p_matrix_values.shape[0],k=-1)\n",
    "print(mask.T)\n",
    "p_matrix_values = np.ma.array(p_matrix_values, mask=mask.T) # mask out the lower triangle\n",
    "p_matrix_values = np.around(p_matrix_values,decimals=2)\n",
    "p_matrix_values"
   ]
  },
  {
   "cell_type": "markdown",
   "metadata": {},
   "source": [
    "#### Heatmap"
   ]
  },
  {
   "cell_type": "code",
   "execution_count": 80,
   "metadata": {},
   "outputs": [
    {
     "data": {
      "image/png": "[encoded data removed]",
      "text/plain": [
       "<Figure size 432x288 with 1 Axes>"
      ]
     },
     "metadata": {
      "needs_background": "light"
     },
     "output_type": "display_data"
    }
   ],
   "source": [
    "fig = plt.figure()\n",
    "ax1 = fig.add_subplot(111)\n",
    "cmap = cm.get_cmap('jet', 10) # jet doesn't have white color\n",
    "cmap.set_bad('w') # default value is 'k'\n",
    "ax1.imshow(p_matrix_values, interpolation=\"nearest\", cmap=cmap)\n",
    "ax1.grid(True)\n",
    "plt.show()"
   ]
  },
  {
   "cell_type": "markdown",
   "metadata": {},
   "source": [
    "#### Heatmap with values and label names"
   ]
  },
  {
   "cell_type": "code",
   "execution_count": 108,
   "metadata": {},
   "outputs": [],
   "source": [
    "def heatmap(data, row_labels, col_labels, ax=None,\n",
    "            cbar_kw={}, cbarlabel=\"\", **kwargs):\n",
    "    \n",
    "    if not ax:\n",
    "        ax = plt.gca()\n",
    "\n",
    "    # Plot the heatmap\n",
    "    im = ax.imshow(data, **kwargs)\n",
    "\n",
    "    # We want to show all ticks...\n",
    "    ax.set_xticks(np.arange(len(participants)))\n",
    "    ax.set_yticks(np.arange(len(participants)))\n",
    "    # ... and label them with the respective list entries\n",
    "    ax.set_xticklabels(participants)\n",
    "    ax.set_yticklabels(participants)\n",
    "\n",
    "    # Create colorbar\n",
    "    cbar = ax.figure.colorbar(im, ax=ax, **cbar_kw)\n",
    "    cbar.ax.set_ylabel(cbarlabel, rotation=-90, va=\"bottom\")\n",
    "    \n",
    "    # Rotate the tick labels and set their alignment.\n",
    "    plt.setp(ax.get_xticklabels(), rotation=45, ha=\"right\",\n",
    "             rotation_mode=\"anchor\")\n",
    "\n",
    "    # Loop over data dimensions and create text annotations.\n",
    "    for i in range(len(p_matrix_values)):\n",
    "        for j in range(len(p_matrix_values)):\n",
    "            text = ax.text(j, i, p_matrix_values[i, j],\n",
    "                           ha=\"center\", va=\"center\", color=\"black\")\n",
    "\n",
    "    ax.set_title(\"Heat map for participants)\")\n",
    "    return im, cbar"
   ]
  },
  {
   "cell_type": "markdown",
   "metadata": {},
   "source": [
    "##### Heatmap with color legend"
   ]
  },
  {
   "cell_type": "code",
   "execution_count": 109,
   "metadata": {},
   "outputs": [
    {
     "data": {
      "image/png": "[encoded data removed]",
      "text/plain": [
       "<Figure size 432x288 with 2 Axes>"
      ]
     },
     "metadata": {
      "needs_background": "light"
     },
     "output_type": "display_data"
    }
   ],
   "source": [
    "fig, ax = plt.subplots()\n",
    "\n",
    "im, cbar = heatmap(p_matrix_values, participants, participants, ax=ax,\n",
    "                   cmap=\"YlGn\", cbarlabel=\"openebench [t/year]\")\n",
    "\n",
    "fig.tight_layout()\n",
    "plt.show()"
   ]
  }
 ],
 "metadata": {
  "kernelspec": {
   "display_name": "Python 3",
   "language": "python",
   "name": "python3"
  },
  "language_info": {
   "codemirror_mode": {
    "name": "ipython",
    "version": 3
   },
   "file_extension": ".py",
   "mimetype": "text/x-python",
   "name": "python",
   "nbconvert_exporter": "python",
   "pygments_lexer": "ipython3",
   "version": "3.6.8"
  }
 },
 "nbformat": 4,
 "nbformat_minor": 2
}
