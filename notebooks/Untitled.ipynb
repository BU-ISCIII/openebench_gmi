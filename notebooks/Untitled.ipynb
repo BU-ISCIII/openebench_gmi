{
 "cells": [
  {
   "cell_type": "code",
   "execution_count": 7,
   "metadata": {},
   "outputs": [],
   "source": [
    "import sys\n",
    "import os\n",
    "import argparse\n",
    "import json\n",
    "import subprocess\n",
    "import fnmatch\n",
    "from ete3 import Tree"
   ]
  },
  {
   "cell_type": "code",
   "execution_count": 3,
   "metadata": {},
   "outputs": [],
   "source": [
    "def midpoint_root (tree):\n",
    "    tree_outgroup = tree.get_midpoint_outgroup()\n",
    "    tree.set_outgroup(tree_outgroup)\n",
    "    return tree\n",
    "def collapse_nodes (tree, branch_length):\n",
    "    for node_tree in tree.get_descendants():\n",
    "        if not node_tree.is_leaf() and node_tree.dist <= branch_length:\n",
    "            node_tree.delete()\n",
    "    return tree"
   ]
  },
  {
   "cell_type": "code",
   "execution_count": 15,
   "metadata": {},
   "outputs": [],
   "source": [
    "tree = \"./datasets/goldenDataset/SIM-Sbareilly.tre\"\n",
    "data = \"./datasets/benchmark_data/\""
   ]
  },
  {
   "cell_type": "code",
   "execution_count": 17,
   "metadata": {},
   "outputs": [],
   "source": [
    "tree1 = Tree(tree)\n",
    "participants = []\n",
    "for public_participant in os.listdir(data):\n",
    "    part_fullpath = os.path.join(data,public_participant)\n",
    "    if fnmatch.fnmatch(public_participant,\"*.nwk\") and os.path.isfile(part_fullpath):\n",
    "        participants.append(public_participant)"
   ]
  },
  {
   "cell_type": "code",
   "execution_count": 18,
   "metadata": {},
   "outputs": [
    {
     "name": "stdout",
     "output_type": "stream",
     "text": [
      "['participant1.nwk', 'participant2.nwk']\n"
     ]
    }
   ],
   "source": [
    "print(participants)"
   ]
  }
 ],
 "metadata": {
  "kernelspec": {
   "display_name": "Python 3",
   "language": "python",
   "name": "python3"
  },
  "language_info": {
   "codemirror_mode": {
    "name": "ipython",
    "version": 3
   },
   "file_extension": ".py",
   "mimetype": "text/x-python",
   "name": "python",
   "nbconvert_exporter": "python",
   "pygments_lexer": "ipython3",
   "version": "3.7.3"
  }
 },
 "nbformat": 4,
 "nbformat_minor": 2
}
