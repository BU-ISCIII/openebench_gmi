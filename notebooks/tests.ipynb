{
 "cells": [
  {
   "cell_type": "code",
   "execution_count": 23,
   "metadata": {},
   "outputs": [],
   "source": [
    "import sys\n",
    "import os\n",
    "import argparse\n",
    "import json\n",
    "import subprocess\n",
    "import fnmatch\n",
    "from ete3 import Tree"
   ]
  },
  {
   "cell_type": "code",
   "execution_count": 24,
   "metadata": {},
   "outputs": [],
   "source": [
    "def midpoint_root (tree):\n",
    "    tree_outgroup = tree.get_midpoint_outgroup()\n",
    "    tree.set_outgroup(tree_outgroup)\n",
    "    return tree\n",
    "def collapse_nodes (tree, branch_length):\n",
    "    for node_tree in tree.get_descendants():\n",
    "        if not node_tree.is_leaf() and node_tree.dist <= branch_length:\n",
    "            node_tree.delete()\n",
    "    return tree"
   ]
  },
  {
   "cell_type": "code",
   "execution_count": 25,
   "metadata": {},
   "outputs": [],
   "source": [
    "tree = \"../datasets/goldenDataset/SIM-Sbareilly.tre\"\n",
    "data = \"../datasets/benchmark_data/\""
   ]
  },
  {
   "cell_type": "code",
   "execution_count": 26,
   "metadata": {},
   "outputs": [],
   "source": [
    "in_file =  os.path.join(data,\"participant_matrix.json\")\n",
    "\n",
    "with open(in_file) as json_file:\n",
    "    jsondata = json.load(json_file)\n",
    "\n",
    "participants = jsondata[\"participants\"]\n",
    "participants.append(\"one_tree_more\")\n",
    "benchmark_data = jsondata[\"matrix\"][\"values\"]\n"
   ]
  },
  {
   "cell_type": "code",
   "execution_count": 27,
   "metadata": {},
   "outputs": [
    {
     "data": {
      "text/plain": [
       "['participant1', 'one_tree_more']"
      ]
     },
     "execution_count": 27,
     "metadata": {},
     "output_type": "execute_result"
    }
   ],
   "source": [
    "participants"
   ]
  },
  {
   "cell_type": "code",
   "execution_count": 28,
   "metadata": {},
   "outputs": [
    {
     "data": {
      "text/plain": [
       "[[0, 0]]"
      ]
     },
     "execution_count": 28,
     "metadata": {},
     "output_type": "execute_result"
    }
   ],
   "source": [
    "benchmark_data[0].append(0)\n",
    "benchmark_data"
   ]
  }
 ],
 "metadata": {
  "kernelspec": {
   "display_name": "Python 3",
   "language": "python",
   "name": "python3"
  },
  "language_info": {
   "codemirror_mode": {
    "name": "ipython",
    "version": 3
   },
   "file_extension": ".py",
   "mimetype": "text/x-python",
   "name": "python",
   "nbconvert_exporter": "python",
   "pygments_lexer": "ipython3",
   "version": "3.7.3"
  }
 },
 "nbformat": 4,
 "nbformat_minor": 2
}
