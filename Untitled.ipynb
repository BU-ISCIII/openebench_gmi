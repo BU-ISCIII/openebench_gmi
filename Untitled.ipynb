{
 "cells": [
  {
   "cell_type": "code",
   "execution_count": 2,
   "metadata": {},
   "outputs": [],
   "source": [
    "import sys\n",
    "import os\n",
    "import argparse\n",
    "import json\n",
    "import subprocess\n",
    "from ete3 import Tree"
   ]
  },
  {
   "cell_type": "code",
   "execution_count": 55,
   "metadata": {},
   "outputs": [],
   "source": [
    "tree2 = Tree(\"datasets/goldenDataset/SIM-Sbareilly.tre\")\n",
    "tree2_outgroup = tree2.get_midpoint_outgroup()\n",
    "tree2.set_outgroup(tree2_outgroup)\n",
    "tree1 = Tree(\"datasets/testResultDataset/participant3.nwk\")\n",
    "tree1_outgroup = tree1.get_midpoint_outgroup()\n",
    "tree1.set_outgroup(tree1_outgroup)\n",
    "\n",
    "tree3 = Tree(\"datasets/testResultDataset/participant1.nwk\")\n",
    "tree3_outgroup = tree3.get_midpoint_outgroup()\n",
    "tree3.set_outgroup(tree3_outgroup)\n"
   ]
  },
  {
   "cell_type": "code",
   "execution_count": null,
   "metadata": {},
   "outputs": [],
   "source": [
    "results = tree1.robinson_foulds(tree2,expand_polytomies=True,polytomy_size_limit=40)\n",
    "results"
   ]
  },
  {
   "cell_type": "code",
   "execution_count": null,
   "metadata": {},
   "outputs": [],
   "source": [
    "results = tree3.compare(tree1,unrooted=True)\n",
    "results"
   ]
  }
 ],
 "metadata": {
  "kernelspec": {
   "display_name": "Python 3",
   "language": "python",
   "name": "python3"
  },
  "language_info": {
   "codemirror_mode": {
    "name": "ipython",
    "version": 3
   },
   "file_extension": ".py",
   "mimetype": "text/x-python",
   "name": "python",
   "nbconvert_exporter": "python",
   "pygments_lexer": "ipython3",
   "version": "3.7.3"
  }
 },
 "nbformat": 4,
 "nbformat_minor": 2
}
