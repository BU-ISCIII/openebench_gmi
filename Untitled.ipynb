{
 "cells": [
  {
   "cell_type": "code",
   "execution_count": 3,
   "metadata": {},
   "outputs": [],
   "source": [
    "import sys\n",
    "import os\n",
    "import argparse\n",
    "import json\n",
    "import subprocess\n",
    "from ete3 import Tree"
   ]
  },
  {
   "cell_type": "code",
   "execution_count": 26,
   "metadata": {},
   "outputs": [],
   "source": [
    "tree2 = Tree(\"datasets/goldenDataset/SIM-Sbareilly.tre\")\n",
    "tree2_outgroup = tree2.get_midpoint_outgroup()\n",
    "tree2.set_outgroup(tree2_outgroup)\n",
    "tree1 = Tree(\"datasets/testResultDataset/participant3.nwk\")\n",
    "tree1_outgroup = tree1.get_midpoint_outgroup()\n",
    "tree1.set_outgroup(tree1_outgroup)\n",
    "\n",
    "tree3 = Tree(\"datasets/testResultDataset/participant1.nwk\")\n",
    "tree3_outgroup = tree3.get_midpoint_outgroup()\n",
    "tree3.set_outgroup(tree3_outgroup)\n"
   ]
  },
  {
   "cell_type": "code",
   "execution_count": null,
   "metadata": {},
   "outputs": [],
   "source": [
    "results = tree1.robinson_foulds(tree2,expand_polytomies=True,polytomy_size_limit=40)\n",
    "results"
   ]
  },
  {
   "cell_type": "code",
   "execution_count": null,
   "metadata": {},
   "outputs": [],
   "source": [
    "results = tree3.compare(tree1,unrooted=True)\n",
    "results"
   ]
  },
  {
   "cell_type": "code",
   "execution_count": 19,
   "metadata": {},
   "outputs": [
    {
     "data": {
      "text/plain": [
       "'\\n                                       /-1.00000050002909e-06\\n                     /0.5064638599614918\\n                    |                  \\\\-0.027465480715548246\\n   /0.5123563223047791\\n  |                 |                   /-0.0024226314350278668\\n  |                  \\\\0.16132197808941062\\n  |                                     \\\\-0.3746451280413356\\n  |\\n  |                  /-1.00000050002909e-06\\n-0.0                |\\n  |                 |                  /-0.006798120271011484\\n  |                 |                 |\\n  |                 |                 |                                                                                                                                                                                                        /-1.00000050002909e-06\\n  |                 |                 |                                                                                                                                                                                    /1.00000050002909e-06\\n  |                 |                 |                                                                                                                                                                /1.00000050002909e-06                   \\\\-1.00000050002909e-06\\n  |                 |                 |                                                                                                                                                               |                   |\\n   \\\\0.5123563223047791                |                                                                                                                                            /1.00000050002909e-06                   \\\\-1.00000050002909e-06\\n                    |                 |                                                                                                                                           |                   |\\n                    |                 |                                                                                                                                           |                    \\\\-1.00000050002909e-06\\n                    |                 |                                                                                                                                           |\\n                    |                 |                                                                                                                                           |                                                                                /-1.00000050002909e-06\\n                    |                 |                                                                                                                        /1.00000050002909e-06                                                           /1.00000050002909e-06\\n                    |                 |                                                                                                                       |                   |                                        /1.00000050002909e-06                   \\\\-1.00000050002909e-06\\n                    |                 |                                                                                                                       |                   |                                       |                   |\\n                    |                 |                                                                                                                       |                   |                    /1.00000050002909e-06                   \\\\-1.00000050002909e-06\\n                     \\\\0.2209305965786611                                                                                                                      |                   |                   |                   |\\n                                      |                                                                                                                       |                    \\\\1.00000050002909e-06                   \\\\-1.00000050002909e-06\\n                                      |                                                                                                    /1.00000050002909e-06                                      |\\n                                      |                                                                                                   |                   |                                       |                    /-1.00000050002909e-06\\n                                      |                                                                                                   |                   |                                        \\\\1.00000050002909e-06\\n                                      |                                                                                                   |                   |                                                            \\\\-1.00000050002909e-06\\n                                      |                                                                                /1.00000050002909e-06                  |\\n                                      |                                                                               |                   |                   |                    /-1.00000050002909e-06\\n                                      |                                                                               |                   |                    \\\\1.00000050002909e-06\\n                                      |                                                            /1.00000050002909e-06                  |                                        \\\\-1.00000050002909e-06\\n                                      |                                                           |                   |                   |\\n                                      |                                                           |                   |                    \\\\-1.00000050002909e-06\\n                                      |                                        /1.00000050002909e-06                  |\\n                                      |                                       |                   |                    \\\\-1.00000050002909e-06\\n                                      |                    /1.00000050002909e-06                  |\\n                                      |                   |                   |                    \\\\-1.00000050002909e-06\\n                                       \\\\1.00000050002909e-06                  |\\n                                                          |                    \\\\-1.00000050002909e-06\\n                                                          |\\n                                                           \\\\-1.00000050002909e-06'"
      ]
     },
     "execution_count": 19,
     "metadata": {},
     "output_type": "execute_result"
    }
   ],
   "source": [
    "tree3.get_ascii(attributes=[\"dist\"])"
   ]
  },
  {
   "cell_type": "code",
   "execution_count": 36,
   "metadata": {},
   "outputs": [
    {
     "data": {
      "text/plain": [
       "'\\n         /-SIM_CFSAN000211\\n      /-|\\n     |   \\\\-SIM_CFSAN000212\\n   /-|\\n  |  |   /-SIM_CFSAN000228\\n  |   \\\\-|\\n  |      \\\\-SIM_CFSAN000191\\n  |\\n  |   /-SIM_CFSAN000189\\n  |  |\\n--|  |   /-SIM_CFSAN000700\\n  |  |  |\\n  |  |  |--SIM_CFSAN000958\\n  |  |  |\\n  |  |  |--SIM_CFSAN000951\\n  |  |  |\\n  |  |  |--SIM_CFSAN000661\\n   \\\\-|  |\\n     |  |--SIM_CFSAN000669\\n     |  |\\n     |  |--SIM_CFSAN000961\\n     |  |\\n     |  |--SIM_CFSAN001115\\n     |  |\\n     |  |--SIM_CFSAN000968\\n     |  |\\n     |  |--SIM_CFSAN001112\\n      \\\\-|\\n        |--SIM_CFSAN001118\\n        |\\n        |--SIM_CFSAN000752\\n        |\\n        |--SIM_CFSAN000952\\n        |\\n        |--SIM_CFSAN000753\\n        |\\n        |--SIM_CFSAN000963\\n        |\\n        |--SIM_CFSAN000970\\n        |\\n        |--SIM_CFSAN000954\\n        |\\n        |--SIM_CFSAN001140\\n        |\\n         \\\\-SIM_CFSAN000960'"
      ]
     },
     "execution_count": 36,
     "metadata": {},
     "output_type": "execute_result"
    }
   ],
   "source": [
    "for node in tree3.get_descendants():\n",
    "    if not node.is_leaf() and node.support <= 50:\n",
    "        node.delete()\n",
    "tree3.get_ascii()\n"
   ]
  },
  {
   "cell_type": "code",
   "execution_count": 35,
   "metadata": {},
   "outputs": [
    {
     "data": {
      "text/plain": [
       "'\\n         /-SIM_000211\\n      /-|\\n     |   \\\\-SIM_000212\\n   /-|\\n  |  |   /-SIM_000191\\n  |   \\\\-|\\n  |      \\\\-SIM_000228\\n  |\\n--|   /-SIM_000189\\n  |  |\\n  |  |   /-SIM_000961\\n  |  |  |\\n  |  |  |   /-SIM_000661\\n   \\\\-|  |  |\\n     |  |  |--SIM_001140\\n     |  |  |\\n     |  |  |--SIM_000968\\n     |  |  |\\n     |  |  |--SIM_000960\\n      \\\\-|  |\\n        |  |--SIM_000952\\n        |  |\\n        |  |--SIM_000954\\n        |  |\\n        |  |--SIM_000963\\n        |  |\\n        |  |--SIM_000958\\n        |  |\\n         \\\\-|--SIM_000951\\n           |\\n           |--SIM_001118\\n           |\\n           |--SIM_000700\\n           |\\n           |--SIM_001115\\n           |\\n           |--SIM_000752\\n           |\\n           |--SIM_000669\\n           |\\n           |--SIM_000970\\n           |\\n           |--SIM_001112\\n           |\\n            \\\\-SIM_000753'"
      ]
     },
     "execution_count": 35,
     "metadata": {},
     "output_type": "execute_result"
    }
   ],
   "source": [
    "tree2.get_ascii()"
   ]
  },
  {
   "cell_type": "code",
   "execution_count": 30,
   "metadata": {},
   "outputs": [
    {
     "data": {
      "text/plain": [
       "{'rf': 0.0,\n",
       " 'max_rf': -2.0,\n",
       " 'ref_edges_in_source': 'NA',\n",
       " 'source_edges_in_ref': 'NA',\n",
       " 'effective_tree_size': 0,\n",
       " 'norm_rf': -0.0,\n",
       " 'treeko_dist': 'NA',\n",
       " 'source_subtrees': 1,\n",
       " 'common_edges': set(),\n",
       " 'source_edges': set(),\n",
       " 'ref_edges': set()}"
      ]
     },
     "execution_count": 30,
     "metadata": {},
     "output_type": "execute_result"
    }
   ],
   "source": [
    "results = tree3.compare(tree2)\n",
    "results"
   ]
  }
 ],
 "metadata": {
  "kernelspec": {
   "display_name": "Python 3",
   "language": "python",
   "name": "python3"
  },
  "language_info": {
   "codemirror_mode": {
    "name": "ipython",
    "version": 3
   },
   "file_extension": ".py",
   "mimetype": "text/x-python",
   "name": "python",
   "nbconvert_exporter": "python",
   "pygments_lexer": "ipython3",
   "version": "3.7.3"
  }
 },
 "nbformat": 4,
 "nbformat_minor": 2
}
